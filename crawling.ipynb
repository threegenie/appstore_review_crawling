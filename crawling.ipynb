{
 "cells": [
  {
   "cell_type": "code",
   "execution_count": 1,
   "metadata": {},
   "outputs": [
    {
     "name": "stdout",
     "output_type": "stream",
     "text": [
      "Requirement already satisfied: selenium in c:\\users\\vitri\\anaconda3\\lib\\site-packages (3.141.0)\n",
      "Requirement already satisfied: urllib3 in c:\\users\\vitri\\anaconda3\\lib\\site-packages (from selenium) (1.25.11)\n",
      "Note: you may need to restart the kernel to use updated packages.\n"
     ]
    }
   ],
   "source": [
    "pip install selenium"
   ]
  },
  {
   "cell_type": "code",
   "execution_count": 3,
   "metadata": {},
   "outputs": [
    {
     "name": "stdout",
     "output_type": "stream",
     "text": [
      "Collecting webdriver-manager\n",
      "  Downloading webdriver_manager-3.4.2-py2.py3-none-any.whl (16 kB)\n",
      "Collecting crayons\n",
      "  Downloading crayons-0.4.0-py2.py3-none-any.whl (4.6 kB)\n",
      "Collecting configparser\n",
      "  Downloading configparser-5.0.2-py3-none-any.whl (19 kB)\n",
      "Requirement already satisfied: requests in c:\\users\\vitri\\anaconda3\\lib\\site-packages (from webdriver-manager) (2.24.0)\n",
      "Requirement already satisfied: colorama in c:\\users\\vitri\\anaconda3\\lib\\site-packages (from crayons->webdriver-manager) (0.4.4)\n",
      "Requirement already satisfied: idna<3,>=2.5 in c:\\users\\vitri\\anaconda3\\lib\\site-packages (from requests->webdriver-manager) (2.10)\n",
      "Requirement already satisfied: chardet<4,>=3.0.2 in c:\\users\\vitri\\anaconda3\\lib\\site-packages (from requests->webdriver-manager) (3.0.4)\n",
      "Requirement already satisfied: certifi>=2017.4.17 in c:\\users\\vitri\\anaconda3\\lib\\site-packages (from requests->webdriver-manager) (2020.6.20)\n",
      "Requirement already satisfied: urllib3!=1.25.0,!=1.25.1,<1.26,>=1.21.1 in c:\\users\\vitri\\anaconda3\\lib\\site-packages (from requests->webdriver-manager) (1.25.11)\n",
      "Installing collected packages: crayons, configparser, webdriver-manager\n",
      "Successfully installed configparser-5.0.2 crayons-0.4.0 webdriver-manager-3.4.2\n",
      "Note: you may need to restart the kernel to use updated packages.\n"
     ]
    }
   ],
   "source": [
    "pip install webdriver-manager"
   ]
  },
  {
   "cell_type": "code",
   "execution_count": null,
   "metadata": {
    "scrolled": true
   },
   "outputs": [
    {
     "name": "stderr",
     "output_type": "stream",
     "text": [
      "\n",
      "\n",
      "====== WebDriver manager ======\n",
      "Current google-chrome version is 90.0.4430\n",
      "Get LATEST driver version for 90.0.4430\n",
      "Driver [C:\\Users\\vitri\\.wdm\\drivers\\chromedriver\\win32\\90.0.4430.24\\chromedriver.exe] found in cache\n"
     ]
    }
   ],
   "source": [
    "# 1. Load Module\n",
    "from selenium import webdriver \n",
    "from bs4 import BeautifulSoup \n",
    "import urllib.request as req \n",
    "import pandas as pd \n",
    "import numpy as np \n",
    "import collections as co \n",
    "import time \n",
    "from webdriver_manager.chrome import ChromeDriverManager\n",
    "from selenium.webdriver.common.keys import Keys\n",
    "\n",
    "# 2. Enter the website - Flo\n",
    "url = 'https://play.google.com/store/apps/details?id=com.towneers.www&showAllReviews=true'\n",
    "# driverPath = \"C:/Users/vitri/Downloads/chromedriver.exe\" \n",
    "\n",
    "# options = webdriver.ChromeOptions()\n",
    "# options.add_experimmental_option('excludeSwitches',['enable-logging'])\n",
    "# driver = webdriver.Chrome(driverPath)\n",
    "driver = webdriver.Chrome(ChromeDriverManager().install())\n",
    "driver.get(url)\n",
    "driver.maximize_window()\n",
    "# while(True):\n",
    "#     pass\n",
    "\n",
    "\n",
    "# driver = webdriver.Chrome(driverPath) \n",
    "# driver.get(url)\n",
    "\n",
    "# 3. Scrape Data \n",
    "SCROLL_PAUSE_TIME = 1.5 \n",
    "last_height = driver.execute_script(\"return document.body.scrollHeight\") \n",
    "# for i in range(5):\n",
    "while True:\n",
    "    #6번의 스크롤링\n",
    "    for i in range(50):\n",
    "        driver.execute_script('window.scrollTo(0,document.body.scrollHeight);')\n",
    "        time.sleep(SCROLL_PAUSE_TIME)\n",
    "    \n",
    "    #더보기 클릭\n",
    "#     driver.find_element_by_xpath(\"//span[@class='RveJvd snByac']\").click()\n",
    "\n",
    "    #종료 조건\n",
    "    new_height = driver.execute_script(\"return document.body.scrollHeight\")\n",
    "    if new_height == last_height:\n",
    "        break\n",
    "    last_height = new_height\n",
    "\n",
    "## [전체 리뷰] 버튼 클릭하여 펼치기\n",
    "spread_review = driver.find_elements_by_xpath(\"//button[@jsaction='click:TiglPc']\")\n",
    "\n",
    "for i in range(len(spread_review)):\n",
    "    isTrue = spread_review[i].is_displayed()\n",
    "    print('Element is visible? '+str(isTrue))\n",
    "    if isTrue:\n",
    "        spread_review[i].send_keys(Keys.ENTER)\n",
    "        print(str(i)+\"th more button is clicked and wait 1.5 secs...\") \n",
    "        time.sleep(SCROLL_PAUSE_TIME)\n",
    "    \n",
    "reviews = driver.find_elements_by_xpath(\"//span[contains(@jsname, 'bN97Pc')]\")\n",
    "for i in range(len(reviews)): \n",
    "    print(str(i) + \"\\t\" + reviews[i].text)\n",
    "\n",
    "long_reviews = driver.find_elements_by_xpath(\"//span[@jsname='fbQN7e']\")\n",
    "for i in range(len(reviews)): \n",
    "    print(long_reviews[i].text)\n",
    "\n",
    "## merge two list \n",
    "merged_review = [t.text if t.text!='' else long_reviews[i].text for i,t in enumerate(reviews)]\n",
    "\n",
    "dates = driver.find_elements_by_xpath(\"//div[@class='bAhLNe kx8XBd']/div/span[@class='p2TkOb']\")\n",
    "likes = driver.find_elements_by_xpath(\"//div[@aria-label='이 리뷰가 유용하다는 평가를 받은 횟수입니다.']\") \n",
    "stars = driver.find_elements_by_xpath(\"//span[@class='nt2C1d']/div[@class='pf5lIe']/div[@role='img']\")\n",
    "stars_text = stars[3].get_attribute('aria-label')\n",
    "\n",
    "# 4. Merge Data \n",
    "res_deque = co.deque([]) \n",
    "for i in range(len(reviews)): \n",
    "    res_deque.append({ \n",
    "        'DATE' : dates[i].text, \n",
    "        'STAR' : stars[i].get_attribute('aria-label'), \n",
    "        'LIKE' : likes[i].text, \n",
    "        'REVIEW' : merged_review[i] \n",
    "        })\n",
    "\n",
    "res_df = pd.DataFrame(res_deque) \n",
    "res_df.to_csv('C:/Users/vitri/Downloads/Crawling_data.csv', index=False, encoding='utf-8-sig')\n"
   ]
  },
  {
   "cell_type": "code",
   "execution_count": null,
   "metadata": {},
   "outputs": [],
   "source": []
  }
 ],
 "metadata": {
  "kernelspec": {
   "display_name": "Python 3",
   "language": "python",
   "name": "python3"
  },
  "language_info": {
   "codemirror_mode": {
    "name": "ipython",
    "version": 3
   },
   "file_extension": ".py",
   "mimetype": "text/x-python",
   "name": "python",
   "nbconvert_exporter": "python",
   "pygments_lexer": "ipython3",
   "version": "3.8.5"
  }
 },
 "nbformat": 4,
 "nbformat_minor": 4
}
