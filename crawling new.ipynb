{
 "cells": [
  {
   "cell_type": "code",
   "execution_count": 1,
   "metadata": {},
   "outputs": [
    {
     "name": "stdout",
     "output_type": "stream",
     "text": [
      "Requirement already satisfied: webdriver-manager in c:\\users\\vitri\\anaconda3\\lib\\site-packages (3.4.2)\n",
      "Requirement already satisfied: configparser in c:\\users\\vitri\\anaconda3\\lib\\site-packages (from webdriver-manager) (5.0.2)\n",
      "Requirement already satisfied: requests in c:\\users\\vitri\\anaconda3\\lib\\site-packages (from webdriver-manager) (2.24.0)\n",
      "Requirement already satisfied: crayons in c:\\users\\vitri\\anaconda3\\lib\\site-packages (from webdriver-manager) (0.4.0)\n",
      "Requirement already satisfied: chardet<4,>=3.0.2 in c:\\users\\vitri\\anaconda3\\lib\\site-packages (from requests->webdriver-manager) (3.0.4)\n",
      "Requirement already satisfied: idna<3,>=2.5 in c:\\users\\vitri\\anaconda3\\lib\\site-packages (from requests->webdriver-manager) (2.10)\n",
      "Requirement already satisfied: urllib3!=1.25.0,!=1.25.1,<1.26,>=1.21.1 in c:\\users\\vitri\\anaconda3\\lib\\site-packages (from requests->webdriver-manager) (1.25.11)\n",
      "Requirement already satisfied: certifi>=2017.4.17 in c:\\users\\vitri\\anaconda3\\lib\\site-packages (from requests->webdriver-manager) (2020.6.20)\n",
      "Requirement already satisfied: colorama in c:\\users\\vitri\\anaconda3\\lib\\site-packages (from crayons->webdriver-manager) (0.4.4)\n",
      "Note: you may need to restart the kernel to use updated packages.\n"
     ]
    }
   ],
   "source": [
    "pip install webdriver-manager"
   ]
  },
  {
   "cell_type": "code",
   "execution_count": 2,
   "metadata": {},
   "outputs": [
    {
     "name": "stdout",
     "output_type": "stream",
     "text": [
      "Requirement already satisfied: selenium in c:\\users\\vitri\\anaconda3\\lib\\site-packages (3.141.0)\n",
      "Requirement already satisfied: urllib3 in c:\\users\\vitri\\anaconda3\\lib\\site-packages (from selenium) (1.25.11)\n",
      "Note: you may need to restart the kernel to use updated packages.\n"
     ]
    }
   ],
   "source": [
    "pip install selenium"
   ]
  },
  {
   "cell_type": "code",
   "execution_count": 7,
   "metadata": {},
   "outputs": [
    {
     "name": "stderr",
     "output_type": "stream",
     "text": [
      "\n",
      "\n",
      "====== WebDriver manager ======\n",
      "Current google-chrome version is 91.0.4472\n",
      "Get LATEST driver version for 91.0.4472\n",
      "Driver [C:\\Users\\vitri\\.wdm\\drivers\\chromedriver\\win32\\91.0.4472.19\\chromedriver.exe] found in cache\n"
     ]
    },
    {
     "name": "stdout",
     "output_type": "stream",
     "text": [
      "Cannot find load more button...\n",
      "Cannot find load more button...\n",
      "Cannot find load more button...\n",
      "Cannot find load more button...\n",
      "Cannot find load more button...\n",
      "Cannot find load more button...\n",
      "Cannot find load more button...\n",
      "Cannot find load more button...\n",
      "There are 440 reviews avaliable!\n",
      "Writing the data...\n",
      "Done!\n"
     ]
    }
   ],
   "source": [
    "from selenium import webdriver\n",
    "from bs4 import BeautifulSoup\n",
    "import time, os\n",
    "from datetime import datetime\n",
    "import pandas as pd\n",
    "import urllib.request as req \n",
    "import pandas as pd \n",
    "import numpy as np \n",
    "import collections as co \n",
    "from webdriver_manager.chrome import ChromeDriverManager\n",
    "from selenium.webdriver.common.keys import Keys\n",
    "\n",
    "# review link link\n",
    "link = 'https://play.google.com/store/apps/details?id=com.towneers.www&showAllReviews=true'\n",
    "\n",
    "# how many scrolls we need\n",
    "scroll_cnt = 10\n",
    "\n",
    "# download chrome driver https://sites.google.com/a/chromium.org/chromedriver/home\n",
    "driver = webdriver.Chrome(ChromeDriverManager().install())\n",
    "driver.get(link)\n",
    "driver.maximize_window()\n",
    "\n",
    "os.makedirs('result', exist_ok=True)\n",
    "\n",
    "for i in range(scroll_cnt):\n",
    "  # scroll to bottom\n",
    "  driver.execute_script('window.scrollTo(0, document.body.scrollHeight);')\n",
    "  time.sleep(3)\n",
    "\n",
    "  # click 'Load more' button, if exists\n",
    "  try:\n",
    "    load_more = driver.find_element_by_xpath('//*[contains(@class,\"U26fgb O0WRkf oG5Srb C0oVfc n9lfJ\")]').click()\n",
    "  except:\n",
    "    print('Cannot find load more button...')\n",
    "\n",
    "# get review containers\n",
    "reviews = driver.find_elements_by_xpath('//*[@jsname=\"fk8dgd\"]//div[@class=\"d15Mdf bAhLNe\"]')\n",
    "\n",
    "print('There are %d reviews avaliable!' % len(reviews))\n",
    "print('Writing the data...')\n",
    "\n",
    "# create empty dataframe to store data\n",
    "df = pd.DataFrame(columns=['name', 'ratings', 'date', 'helpful', 'comment', 'developer_comment'])\n",
    "\n",
    "# get review data\n",
    "for review in reviews:\n",
    "  # parse string to html using bs4\n",
    "  soup = BeautifulSoup(review.get_attribute('innerHTML'), 'html.parser')\n",
    "\n",
    "  # reviewer\n",
    "  name = soup.find(class_='X43Kjb').text\n",
    "\n",
    "  # rating\n",
    "  ratings = int(soup.find('div', role='img').get('aria-label').replace('별표 5개 만점에', '').replace('개를 받았습니다.', '').strip())\n",
    "\n",
    "  # review date\n",
    "  date = soup.find(class_='p2TkOb').text\n",
    "  date = datetime.strptime(date, '%Y년 %m월 %d일')\n",
    "  date = date.strftime('%Y-%m-%d')\n",
    "\n",
    "  # helpful\n",
    "  helpful = soup.find(class_='jUL89d y92BAb').text\n",
    "  if not helpful:\n",
    "    helpful = 0\n",
    "  \n",
    "  # review text\n",
    "  comment = soup.find('span', jsname='fbQN7e').text\n",
    "  if not comment:\n",
    "    comment = soup.find('span', jsname='bN97Pc').text\n",
    "  \n",
    "  # developer comment\n",
    "  developer_comment = None\n",
    "  dc_div = soup.find('div', class_='LVQB0b')\n",
    "  if dc_div:\n",
    "    developer_comment = dc_div.text.replace('\\n', ' ')\n",
    "  \n",
    "  # append to dataframe\n",
    "  df = df.append({\n",
    "    'name': name,\n",
    "    'ratings': ratings,\n",
    "    'date': date,\n",
    "    'helpful': helpful,\n",
    "    'comment': comment,\n",
    "    'developer_comment': developer_comment\n",
    "  }, ignore_index=True)\n",
    "\n",
    "# finally save the dataframe into csv file\n",
    "#filename = datetime.now().strftime('result/%Y-%m-%d_%H-%M-%S.csv')\n",
    "df.to_csv('C:/Users/vitri/Downloads/dangeun_data.csv', encoding='utf-8-sig', index=False)\n",
    "driver.stop_client()\n",
    "driver.close()\n",
    "\n",
    "print('Done!')\n"
   ]
  },
  {
   "cell_type": "code",
   "execution_count": null,
   "metadata": {},
   "outputs": [],
   "source": [
    "d"
   ]
  }
 ],
 "metadata": {
  "kernelspec": {
   "display_name": "Python 3",
   "language": "python",
   "name": "python3"
  },
  "language_info": {
   "codemirror_mode": {
    "name": "ipython",
    "version": 3
   },
   "file_extension": ".py",
   "mimetype": "text/x-python",
   "name": "python",
   "nbconvert_exporter": "python",
   "pygments_lexer": "ipython3",
   "version": "3.8.5"
  }
 },
 "nbformat": 4,
 "nbformat_minor": 4
}
